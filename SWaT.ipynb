{
 "cells": [
  {
   "cell_type": "markdown",
   "metadata": {
    "collapsed": true,
    "pycharm": {
     "name": "#%% md\n"
    }
   },
   "source": [
    "Secure Water Treatment"
   ]
  },
  {
   "cell_type": "code",
   "source": [
    "import warnings\n",
    "import pandas as pd\n",
    "import json\n",
    "import matplotlib.pyplot as plt\n",
    "import numpy as np\n",
    "import seaborn as sns\n",
    "import matrixprofile as mp\n",
    "from PIL import Image\n",
    "warnings.filterwarnings('ignore')\n",
    "\n",
    "print(\"Fin import\")"
   ],
   "metadata": {
    "collapsed": false,
    "pycharm": {
     "name": "#%%\n"
    }
   },
   "execution_count": 1,
   "outputs": [
    {
     "name": "stdout",
     "output_type": "stream",
     "text": [
      "Fin import\n"
     ]
    }
   ]
  },
  {
   "cell_type": "code",
   "execution_count": 2,
   "outputs": [
    {
     "data": {
      "text/plain": "                 Unnamed: 0 Unnamed: 1 Unnamed: 2 Unnamed: 3 Unnamed: 4  \\\n0                 Timestamp     FIT101     LIT101      MV101       P101   \n1    28/12/2015 10:00:00 AM   2,427057   522,8467          2          2   \n2    28/12/2015 10:00:01 AM   2,446274    522,886          2          2   \n3    28/12/2015 10:00:02 AM   2,489191   522,8467          2          2   \n4    28/12/2015 10:00:03 AM    2,53435   522,9645          2          2   \n5    28/12/2015 10:00:04 AM    2,56926   523,4748          2          2   \n6    28/12/2015 10:00:05 AM   2,609294   523,8673          2          2   \n7    28/12/2015 10:00:06 AM   2,637158   524,1028          2          2   \n8    28/12/2015 10:00:07 AM   2,652211   524,2206          2          2   \n9    28/12/2015 10:00:08 AM   2,655735   524,4954          2          2   \n10   28/12/2015 10:00:09 AM    2,64997   524,0636          2          2   \n11   28/12/2015 10:00:10 AM   2,630433   524,1028          2          2   \n12   28/12/2015 10:00:11 AM   2,621785   523,7496          2          2   \n13   28/12/2015 10:00:12 AM    2,61602   523,4355          2          2   \n14   28/12/2015 10:00:13 AM   2,599366    523,043          2          2   \n15   28/12/2015 10:00:14 AM   2,588476    522,729          2          2   \n16   28/12/2015 10:00:15 AM   2,567979   522,6505          2          2   \n17   28/12/2015 10:00:16 AM   2,556769   522,6897          2          2   \n18   28/12/2015 10:00:17 AM    2,53435   522,6897          2          2   \n19   28/12/2015 10:00:18 AM   2,521859   522,6505          2          2   \n\n   Unnamed: 5 Unnamed: 6 Unnamed: 7 Unnamed: 8 Unnamed: 9  ... Unnamed: 43  \\\n0        P102     AIT201     AIT202     AIT203     FIT201  ...        P501   \n1           1   262,0161   8,396437   328,6337   2,445391  ...           2   \n2           1   262,0161   8,396437   328,6337   2,445391  ...           2   \n3           1   262,0161   8,394514   328,6337   2,442316  ...           2   \n4           1   262,0161   8,394514   328,6337   2,442316  ...           2   \n5           1   262,0161   8,394514   328,6337   2,443085  ...           2   \n6           1   262,0161   8,394514   328,6337    2,44411  ...           2   \n7           1   262,0161   8,394514   328,6337    2,44411  ...           2   \n8           1   262,0161   8,394514   328,6337   2,441803  ...           2   \n9           1   262,0161   8,394514   328,6337   2,441803  ...           2   \n10          1   262,0161   8,394514   328,6337   2,441803  ...           2   \n11          1   262,0161   8,394514   328,6337   2,441803  ...           2   \n12          1   262,0161   8,391951   328,6337   2,441803  ...           2   \n13          1   262,0161   8,390669   328,6337   2,441803  ...           2   \n14          1   262,0161   8,390669   328,6337   2,441803  ...           2   \n15          1   262,0161   8,390669   328,6337   2,441803  ...           2   \n16          1   262,0161   8,390669   328,6337   2,441803  ...           2   \n17          1   262,0161   8,390669   328,6337   2,441803  ...           2   \n18          1   262,0161   8,390669   328,6081   2,439881  ...           2   \n19          1   262,0161   8,390669   328,3773   2,439881  ...           2   \n\n   Unnamed: 44 Unnamed: 45 Unnamed: 46 Unnamed: 47  Unnamed: 48 Unnamed: 49  \\\n0         P502      PIT501      PIT502      PIT503       FIT601        P601   \n1            1    250,8652    1,649953    189,5988  0,000128152           1   \n2            1    250,8652    1,649953    189,6789  0,000128152           1   \n3            1    250,8812    1,649953    189,6789  0,000128152           1   \n4            1    250,8812    1,649953    189,6148  0,000128152           1   \n5            1    250,8812    1,649953    189,5027  0,000128152           1   \n6            1     250,753    1,649953    189,5027  0,000128152           1   \n7            1    250,5928    1,649953    189,5027  0,000128152           1   \n8            1    250,5928    1,649953    189,5027  0,000128152           1   \n9            1    250,9132    1,649953    189,5027  0,000128152           1   \n10           1    250,9132    1,649953    189,5668  0,000128152           1   \n11           1    251,1055    1,649953    189,8231  0,000128152           1   \n12           1    251,1856    1,649953    189,9994  0,000128152           1   \n13           1    251,1856    1,649953    189,9994  0,000128152           1   \n14           1    251,1856    1,649953    189,9994  0,000128152           1   \n15           1    251,1856    1,649953    189,9994  0,000128152           1   \n16           1    251,1856    1,649953    189,9994  0,000128152           1   \n17           1    251,1856    1,649953    189,8872  0,000128152           1   \n18           1    251,1856    1,649953    189,8872  0,000128152           1   \n19           1    251,1856    1,649953    189,8872  0,000128152           1   \n\n   Unnamed: 50 Unnamed: 51    Unnamed: 52  \n0         P602        P603  Normal/Attack  \n1            1           1         Normal  \n2            1           1         Normal  \n3            1           1         Normal  \n4            1           1         Normal  \n5            1           1         Normal  \n6            1           1         Normal  \n7            1           1         Normal  \n8            1           1         Normal  \n9            1           1         Normal  \n10           1           1         Normal  \n11           1           1         Normal  \n12           1           1         Normal  \n13           1           1         Normal  \n14           1           1         Normal  \n15           1           1         Normal  \n16           1           1         Normal  \n17           1           1         Normal  \n18           1           1         Normal  \n19           1           1         Normal  \n\n[20 rows x 53 columns]",
      "text/html": "<div>\n<style scoped>\n    .dataframe tbody tr th:only-of-type {\n        vertical-align: middle;\n    }\n\n    .dataframe tbody tr th {\n        vertical-align: top;\n    }\n\n    .dataframe thead th {\n        text-align: right;\n    }\n</style>\n<table border=\"1\" class=\"dataframe\">\n  <thead>\n    <tr style=\"text-align: right;\">\n      <th></th>\n      <th>Unnamed: 0</th>\n      <th>Unnamed: 1</th>\n      <th>Unnamed: 2</th>\n      <th>Unnamed: 3</th>\n      <th>Unnamed: 4</th>\n      <th>Unnamed: 5</th>\n      <th>Unnamed: 6</th>\n      <th>Unnamed: 7</th>\n      <th>Unnamed: 8</th>\n      <th>Unnamed: 9</th>\n      <th>...</th>\n      <th>Unnamed: 43</th>\n      <th>Unnamed: 44</th>\n      <th>Unnamed: 45</th>\n      <th>Unnamed: 46</th>\n      <th>Unnamed: 47</th>\n      <th>Unnamed: 48</th>\n      <th>Unnamed: 49</th>\n      <th>Unnamed: 50</th>\n      <th>Unnamed: 51</th>\n      <th>Unnamed: 52</th>\n    </tr>\n  </thead>\n  <tbody>\n    <tr>\n      <th>0</th>\n      <td>Timestamp</td>\n      <td>FIT101</td>\n      <td>LIT101</td>\n      <td>MV101</td>\n      <td>P101</td>\n      <td>P102</td>\n      <td>AIT201</td>\n      <td>AIT202</td>\n      <td>AIT203</td>\n      <td>FIT201</td>\n      <td>...</td>\n      <td>P501</td>\n      <td>P502</td>\n      <td>PIT501</td>\n      <td>PIT502</td>\n      <td>PIT503</td>\n      <td>FIT601</td>\n      <td>P601</td>\n      <td>P602</td>\n      <td>P603</td>\n      <td>Normal/Attack</td>\n    </tr>\n    <tr>\n      <th>1</th>\n      <td>28/12/2015 10:00:00 AM</td>\n      <td>2,427057</td>\n      <td>522,8467</td>\n      <td>2</td>\n      <td>2</td>\n      <td>1</td>\n      <td>262,0161</td>\n      <td>8,396437</td>\n      <td>328,6337</td>\n      <td>2,445391</td>\n      <td>...</td>\n      <td>2</td>\n      <td>1</td>\n      <td>250,8652</td>\n      <td>1,649953</td>\n      <td>189,5988</td>\n      <td>0,000128152</td>\n      <td>1</td>\n      <td>1</td>\n      <td>1</td>\n      <td>Normal</td>\n    </tr>\n    <tr>\n      <th>2</th>\n      <td>28/12/2015 10:00:01 AM</td>\n      <td>2,446274</td>\n      <td>522,886</td>\n      <td>2</td>\n      <td>2</td>\n      <td>1</td>\n      <td>262,0161</td>\n      <td>8,396437</td>\n      <td>328,6337</td>\n      <td>2,445391</td>\n      <td>...</td>\n      <td>2</td>\n      <td>1</td>\n      <td>250,8652</td>\n      <td>1,649953</td>\n      <td>189,6789</td>\n      <td>0,000128152</td>\n      <td>1</td>\n      <td>1</td>\n      <td>1</td>\n      <td>Normal</td>\n    </tr>\n    <tr>\n      <th>3</th>\n      <td>28/12/2015 10:00:02 AM</td>\n      <td>2,489191</td>\n      <td>522,8467</td>\n      <td>2</td>\n      <td>2</td>\n      <td>1</td>\n      <td>262,0161</td>\n      <td>8,394514</td>\n      <td>328,6337</td>\n      <td>2,442316</td>\n      <td>...</td>\n      <td>2</td>\n      <td>1</td>\n      <td>250,8812</td>\n      <td>1,649953</td>\n      <td>189,6789</td>\n      <td>0,000128152</td>\n      <td>1</td>\n      <td>1</td>\n      <td>1</td>\n      <td>Normal</td>\n    </tr>\n    <tr>\n      <th>4</th>\n      <td>28/12/2015 10:00:03 AM</td>\n      <td>2,53435</td>\n      <td>522,9645</td>\n      <td>2</td>\n      <td>2</td>\n      <td>1</td>\n      <td>262,0161</td>\n      <td>8,394514</td>\n      <td>328,6337</td>\n      <td>2,442316</td>\n      <td>...</td>\n      <td>2</td>\n      <td>1</td>\n      <td>250,8812</td>\n      <td>1,649953</td>\n      <td>189,6148</td>\n      <td>0,000128152</td>\n      <td>1</td>\n      <td>1</td>\n      <td>1</td>\n      <td>Normal</td>\n    </tr>\n    <tr>\n      <th>5</th>\n      <td>28/12/2015 10:00:04 AM</td>\n      <td>2,56926</td>\n      <td>523,4748</td>\n      <td>2</td>\n      <td>2</td>\n      <td>1</td>\n      <td>262,0161</td>\n      <td>8,394514</td>\n      <td>328,6337</td>\n      <td>2,443085</td>\n      <td>...</td>\n      <td>2</td>\n      <td>1</td>\n      <td>250,8812</td>\n      <td>1,649953</td>\n      <td>189,5027</td>\n      <td>0,000128152</td>\n      <td>1</td>\n      <td>1</td>\n      <td>1</td>\n      <td>Normal</td>\n    </tr>\n    <tr>\n      <th>6</th>\n      <td>28/12/2015 10:00:05 AM</td>\n      <td>2,609294</td>\n      <td>523,8673</td>\n      <td>2</td>\n      <td>2</td>\n      <td>1</td>\n      <td>262,0161</td>\n      <td>8,394514</td>\n      <td>328,6337</td>\n      <td>2,44411</td>\n      <td>...</td>\n      <td>2</td>\n      <td>1</td>\n      <td>250,753</td>\n      <td>1,649953</td>\n      <td>189,5027</td>\n      <td>0,000128152</td>\n      <td>1</td>\n      <td>1</td>\n      <td>1</td>\n      <td>Normal</td>\n    </tr>\n    <tr>\n      <th>7</th>\n      <td>28/12/2015 10:00:06 AM</td>\n      <td>2,637158</td>\n      <td>524,1028</td>\n      <td>2</td>\n      <td>2</td>\n      <td>1</td>\n      <td>262,0161</td>\n      <td>8,394514</td>\n      <td>328,6337</td>\n      <td>2,44411</td>\n      <td>...</td>\n      <td>2</td>\n      <td>1</td>\n      <td>250,5928</td>\n      <td>1,649953</td>\n      <td>189,5027</td>\n      <td>0,000128152</td>\n      <td>1</td>\n      <td>1</td>\n      <td>1</td>\n      <td>Normal</td>\n    </tr>\n    <tr>\n      <th>8</th>\n      <td>28/12/2015 10:00:07 AM</td>\n      <td>2,652211</td>\n      <td>524,2206</td>\n      <td>2</td>\n      <td>2</td>\n      <td>1</td>\n      <td>262,0161</td>\n      <td>8,394514</td>\n      <td>328,6337</td>\n      <td>2,441803</td>\n      <td>...</td>\n      <td>2</td>\n      <td>1</td>\n      <td>250,5928</td>\n      <td>1,649953</td>\n      <td>189,5027</td>\n      <td>0,000128152</td>\n      <td>1</td>\n      <td>1</td>\n      <td>1</td>\n      <td>Normal</td>\n    </tr>\n    <tr>\n      <th>9</th>\n      <td>28/12/2015 10:00:08 AM</td>\n      <td>2,655735</td>\n      <td>524,4954</td>\n      <td>2</td>\n      <td>2</td>\n      <td>1</td>\n      <td>262,0161</td>\n      <td>8,394514</td>\n      <td>328,6337</td>\n      <td>2,441803</td>\n      <td>...</td>\n      <td>2</td>\n      <td>1</td>\n      <td>250,9132</td>\n      <td>1,649953</td>\n      <td>189,5027</td>\n      <td>0,000128152</td>\n      <td>1</td>\n      <td>1</td>\n      <td>1</td>\n      <td>Normal</td>\n    </tr>\n    <tr>\n      <th>10</th>\n      <td>28/12/2015 10:00:09 AM</td>\n      <td>2,64997</td>\n      <td>524,0636</td>\n      <td>2</td>\n      <td>2</td>\n      <td>1</td>\n      <td>262,0161</td>\n      <td>8,394514</td>\n      <td>328,6337</td>\n      <td>2,441803</td>\n      <td>...</td>\n      <td>2</td>\n      <td>1</td>\n      <td>250,9132</td>\n      <td>1,649953</td>\n      <td>189,5668</td>\n      <td>0,000128152</td>\n      <td>1</td>\n      <td>1</td>\n      <td>1</td>\n      <td>Normal</td>\n    </tr>\n    <tr>\n      <th>11</th>\n      <td>28/12/2015 10:00:10 AM</td>\n      <td>2,630433</td>\n      <td>524,1028</td>\n      <td>2</td>\n      <td>2</td>\n      <td>1</td>\n      <td>262,0161</td>\n      <td>8,394514</td>\n      <td>328,6337</td>\n      <td>2,441803</td>\n      <td>...</td>\n      <td>2</td>\n      <td>1</td>\n      <td>251,1055</td>\n      <td>1,649953</td>\n      <td>189,8231</td>\n      <td>0,000128152</td>\n      <td>1</td>\n      <td>1</td>\n      <td>1</td>\n      <td>Normal</td>\n    </tr>\n    <tr>\n      <th>12</th>\n      <td>28/12/2015 10:00:11 AM</td>\n      <td>2,621785</td>\n      <td>523,7496</td>\n      <td>2</td>\n      <td>2</td>\n      <td>1</td>\n      <td>262,0161</td>\n      <td>8,391951</td>\n      <td>328,6337</td>\n      <td>2,441803</td>\n      <td>...</td>\n      <td>2</td>\n      <td>1</td>\n      <td>251,1856</td>\n      <td>1,649953</td>\n      <td>189,9994</td>\n      <td>0,000128152</td>\n      <td>1</td>\n      <td>1</td>\n      <td>1</td>\n      <td>Normal</td>\n    </tr>\n    <tr>\n      <th>13</th>\n      <td>28/12/2015 10:00:12 AM</td>\n      <td>2,61602</td>\n      <td>523,4355</td>\n      <td>2</td>\n      <td>2</td>\n      <td>1</td>\n      <td>262,0161</td>\n      <td>8,390669</td>\n      <td>328,6337</td>\n      <td>2,441803</td>\n      <td>...</td>\n      <td>2</td>\n      <td>1</td>\n      <td>251,1856</td>\n      <td>1,649953</td>\n      <td>189,9994</td>\n      <td>0,000128152</td>\n      <td>1</td>\n      <td>1</td>\n      <td>1</td>\n      <td>Normal</td>\n    </tr>\n    <tr>\n      <th>14</th>\n      <td>28/12/2015 10:00:13 AM</td>\n      <td>2,599366</td>\n      <td>523,043</td>\n      <td>2</td>\n      <td>2</td>\n      <td>1</td>\n      <td>262,0161</td>\n      <td>8,390669</td>\n      <td>328,6337</td>\n      <td>2,441803</td>\n      <td>...</td>\n      <td>2</td>\n      <td>1</td>\n      <td>251,1856</td>\n      <td>1,649953</td>\n      <td>189,9994</td>\n      <td>0,000128152</td>\n      <td>1</td>\n      <td>1</td>\n      <td>1</td>\n      <td>Normal</td>\n    </tr>\n    <tr>\n      <th>15</th>\n      <td>28/12/2015 10:00:14 AM</td>\n      <td>2,588476</td>\n      <td>522,729</td>\n      <td>2</td>\n      <td>2</td>\n      <td>1</td>\n      <td>262,0161</td>\n      <td>8,390669</td>\n      <td>328,6337</td>\n      <td>2,441803</td>\n      <td>...</td>\n      <td>2</td>\n      <td>1</td>\n      <td>251,1856</td>\n      <td>1,649953</td>\n      <td>189,9994</td>\n      <td>0,000128152</td>\n      <td>1</td>\n      <td>1</td>\n      <td>1</td>\n      <td>Normal</td>\n    </tr>\n    <tr>\n      <th>16</th>\n      <td>28/12/2015 10:00:15 AM</td>\n      <td>2,567979</td>\n      <td>522,6505</td>\n      <td>2</td>\n      <td>2</td>\n      <td>1</td>\n      <td>262,0161</td>\n      <td>8,390669</td>\n      <td>328,6337</td>\n      <td>2,441803</td>\n      <td>...</td>\n      <td>2</td>\n      <td>1</td>\n      <td>251,1856</td>\n      <td>1,649953</td>\n      <td>189,9994</td>\n      <td>0,000128152</td>\n      <td>1</td>\n      <td>1</td>\n      <td>1</td>\n      <td>Normal</td>\n    </tr>\n    <tr>\n      <th>17</th>\n      <td>28/12/2015 10:00:16 AM</td>\n      <td>2,556769</td>\n      <td>522,6897</td>\n      <td>2</td>\n      <td>2</td>\n      <td>1</td>\n      <td>262,0161</td>\n      <td>8,390669</td>\n      <td>328,6337</td>\n      <td>2,441803</td>\n      <td>...</td>\n      <td>2</td>\n      <td>1</td>\n      <td>251,1856</td>\n      <td>1,649953</td>\n      <td>189,8872</td>\n      <td>0,000128152</td>\n      <td>1</td>\n      <td>1</td>\n      <td>1</td>\n      <td>Normal</td>\n    </tr>\n    <tr>\n      <th>18</th>\n      <td>28/12/2015 10:00:17 AM</td>\n      <td>2,53435</td>\n      <td>522,6897</td>\n      <td>2</td>\n      <td>2</td>\n      <td>1</td>\n      <td>262,0161</td>\n      <td>8,390669</td>\n      <td>328,6081</td>\n      <td>2,439881</td>\n      <td>...</td>\n      <td>2</td>\n      <td>1</td>\n      <td>251,1856</td>\n      <td>1,649953</td>\n      <td>189,8872</td>\n      <td>0,000128152</td>\n      <td>1</td>\n      <td>1</td>\n      <td>1</td>\n      <td>Normal</td>\n    </tr>\n    <tr>\n      <th>19</th>\n      <td>28/12/2015 10:00:18 AM</td>\n      <td>2,521859</td>\n      <td>522,6505</td>\n      <td>2</td>\n      <td>2</td>\n      <td>1</td>\n      <td>262,0161</td>\n      <td>8,390669</td>\n      <td>328,3773</td>\n      <td>2,439881</td>\n      <td>...</td>\n      <td>2</td>\n      <td>1</td>\n      <td>251,1856</td>\n      <td>1,649953</td>\n      <td>189,8872</td>\n      <td>0,000128152</td>\n      <td>1</td>\n      <td>1</td>\n      <td>1</td>\n      <td>Normal</td>\n    </tr>\n  </tbody>\n</table>\n<p>20 rows × 53 columns</p>\n</div>"
     },
     "execution_count": 2,
     "metadata": {},
     "output_type": "execute_result"
    }
   ],
   "source": [
    "df_SWaT = pd.read_csv(\n",
    "  'D:\\Datasets\\SWaT\\SWaT.A1 _ A2_Dec 2015\\Physical\\SWaT_Dataset_Attack_v0_CSV.csv')\n",
    "df_SWaT.head(20)"
   ],
   "metadata": {
    "collapsed": false,
    "pycharm": {
     "name": "#%% SWaT\n"
    }
   }
  },
  {
   "cell_type": "code",
   "execution_count": 3,
   "outputs": [],
   "source": [
    "df_attack = pd.read_csv(\n",
    "  'D:\\Datasets\\SWaT\\SWaT.A1 _ A2_Dec 2015\\Physical\\SWaT_Dataset_Attack_v0_CSV.csv',header=1)\n",
    "df_normal = pd.read_csv(\n",
    "  'D:\\Datasets\\SWaT\\SWaT.A1 _ A2_Dec 2015\\Physical\\SWaT_Dataset_Normal_v0_CSV.csv',header=1)"
   ],
   "metadata": {
    "collapsed": false,
    "pycharm": {
     "name": "#%%\n"
    }
   }
  },
  {
   "cell_type": "code",
   "execution_count": 4,
   "outputs": [
    {
     "name": "stdout",
     "output_type": "stream",
     "text": [
      "Index(['Timestamp', 'FIT101', 'LIT101', 'MV101', 'P101', 'P102', 'AIT201',\n",
      "       'AIT202', 'AIT203', 'FIT201', 'MV201', 'P201', 'P202', 'P203', 'P204',\n",
      "       'P205', 'P206', 'DPIT301', 'FIT301', 'LIT301', 'MV301', 'MV302',\n",
      "       'MV303', 'MV304', 'P301', 'P302', 'AIT401', 'AIT402', 'FIT401',\n",
      "       'LIT401', 'P401', 'P402', 'P403', 'P404', 'UV401', 'AIT501', 'AIT502',\n",
      "       'AIT503', 'AIT504', 'FIT501', 'FIT502', 'FIT503', 'FIT504', 'P501',\n",
      "       'P502', 'PIT501', 'PIT502', 'PIT503', 'FIT601', 'P601', 'P602', 'P603',\n",
      "       'Normal/Attack'],\n",
      "      dtype='object')\n"
     ]
    },
    {
     "data": {
      "text/plain": "                 Timestamp    FIT101    LIT101  MV101  P101  P102    AIT201  \\\n0   28/12/2015 10:00:00 AM  2,427057  522,8467      2     2     1  262,0161   \n1   28/12/2015 10:00:01 AM  2,446274   522,886      2     2     1  262,0161   \n2   28/12/2015 10:00:02 AM  2,489191  522,8467      2     2     1  262,0161   \n3   28/12/2015 10:00:03 AM   2,53435  522,9645      2     2     1  262,0161   \n4   28/12/2015 10:00:04 AM   2,56926  523,4748      2     2     1  262,0161   \n\n     AIT202    AIT203    FIT201  ...  P501  P502    PIT501    PIT502  \\\n0  8,396437  328,6337  2,445391  ...     2     1  250,8652  1,649953   \n1  8,396437  328,6337  2,445391  ...     2     1  250,8652  1,649953   \n2  8,394514  328,6337  2,442316  ...     2     1  250,8812  1,649953   \n3  8,394514  328,6337  2,442316  ...     2     1  250,8812  1,649953   \n4  8,394514  328,6337  2,443085  ...     2     1  250,8812  1,649953   \n\n     PIT503       FIT601  P601 P602 P603 Normal/Attack  \n0  189,5988  0,000128152     1    1    1        Normal  \n1  189,6789  0,000128152     1    1    1        Normal  \n2  189,6789  0,000128152     1    1    1        Normal  \n3  189,6148  0,000128152     1    1    1        Normal  \n4  189,5027  0,000128152     1    1    1        Normal  \n\n[5 rows x 53 columns]",
      "text/html": "<div>\n<style scoped>\n    .dataframe tbody tr th:only-of-type {\n        vertical-align: middle;\n    }\n\n    .dataframe tbody tr th {\n        vertical-align: top;\n    }\n\n    .dataframe thead th {\n        text-align: right;\n    }\n</style>\n<table border=\"1\" class=\"dataframe\">\n  <thead>\n    <tr style=\"text-align: right;\">\n      <th></th>\n      <th>Timestamp</th>\n      <th>FIT101</th>\n      <th>LIT101</th>\n      <th>MV101</th>\n      <th>P101</th>\n      <th>P102</th>\n      <th>AIT201</th>\n      <th>AIT202</th>\n      <th>AIT203</th>\n      <th>FIT201</th>\n      <th>...</th>\n      <th>P501</th>\n      <th>P502</th>\n      <th>PIT501</th>\n      <th>PIT502</th>\n      <th>PIT503</th>\n      <th>FIT601</th>\n      <th>P601</th>\n      <th>P602</th>\n      <th>P603</th>\n      <th>Normal/Attack</th>\n    </tr>\n  </thead>\n  <tbody>\n    <tr>\n      <th>0</th>\n      <td>28/12/2015 10:00:00 AM</td>\n      <td>2,427057</td>\n      <td>522,8467</td>\n      <td>2</td>\n      <td>2</td>\n      <td>1</td>\n      <td>262,0161</td>\n      <td>8,396437</td>\n      <td>328,6337</td>\n      <td>2,445391</td>\n      <td>...</td>\n      <td>2</td>\n      <td>1</td>\n      <td>250,8652</td>\n      <td>1,649953</td>\n      <td>189,5988</td>\n      <td>0,000128152</td>\n      <td>1</td>\n      <td>1</td>\n      <td>1</td>\n      <td>Normal</td>\n    </tr>\n    <tr>\n      <th>1</th>\n      <td>28/12/2015 10:00:01 AM</td>\n      <td>2,446274</td>\n      <td>522,886</td>\n      <td>2</td>\n      <td>2</td>\n      <td>1</td>\n      <td>262,0161</td>\n      <td>8,396437</td>\n      <td>328,6337</td>\n      <td>2,445391</td>\n      <td>...</td>\n      <td>2</td>\n      <td>1</td>\n      <td>250,8652</td>\n      <td>1,649953</td>\n      <td>189,6789</td>\n      <td>0,000128152</td>\n      <td>1</td>\n      <td>1</td>\n      <td>1</td>\n      <td>Normal</td>\n    </tr>\n    <tr>\n      <th>2</th>\n      <td>28/12/2015 10:00:02 AM</td>\n      <td>2,489191</td>\n      <td>522,8467</td>\n      <td>2</td>\n      <td>2</td>\n      <td>1</td>\n      <td>262,0161</td>\n      <td>8,394514</td>\n      <td>328,6337</td>\n      <td>2,442316</td>\n      <td>...</td>\n      <td>2</td>\n      <td>1</td>\n      <td>250,8812</td>\n      <td>1,649953</td>\n      <td>189,6789</td>\n      <td>0,000128152</td>\n      <td>1</td>\n      <td>1</td>\n      <td>1</td>\n      <td>Normal</td>\n    </tr>\n    <tr>\n      <th>3</th>\n      <td>28/12/2015 10:00:03 AM</td>\n      <td>2,53435</td>\n      <td>522,9645</td>\n      <td>2</td>\n      <td>2</td>\n      <td>1</td>\n      <td>262,0161</td>\n      <td>8,394514</td>\n      <td>328,6337</td>\n      <td>2,442316</td>\n      <td>...</td>\n      <td>2</td>\n      <td>1</td>\n      <td>250,8812</td>\n      <td>1,649953</td>\n      <td>189,6148</td>\n      <td>0,000128152</td>\n      <td>1</td>\n      <td>1</td>\n      <td>1</td>\n      <td>Normal</td>\n    </tr>\n    <tr>\n      <th>4</th>\n      <td>28/12/2015 10:00:04 AM</td>\n      <td>2,56926</td>\n      <td>523,4748</td>\n      <td>2</td>\n      <td>2</td>\n      <td>1</td>\n      <td>262,0161</td>\n      <td>8,394514</td>\n      <td>328,6337</td>\n      <td>2,443085</td>\n      <td>...</td>\n      <td>2</td>\n      <td>1</td>\n      <td>250,8812</td>\n      <td>1,649953</td>\n      <td>189,5027</td>\n      <td>0,000128152</td>\n      <td>1</td>\n      <td>1</td>\n      <td>1</td>\n      <td>Normal</td>\n    </tr>\n  </tbody>\n</table>\n<p>5 rows × 53 columns</p>\n</div>"
     },
     "execution_count": 4,
     "metadata": {},
     "output_type": "execute_result"
    }
   ],
   "source": [
    "df_attack.columns = list(map(lambda x: str(x).replace(' ', ''), list(df_attack.columns.values)))\n",
    "df_normal.columns = list(map(lambda x: str(x).replace(' ', ''), list(df_normal.columns.values)))\n",
    "print(df_attack.columns)\n",
    "df_attack.head(5)"
   ],
   "metadata": {
    "collapsed": false,
    "pycharm": {
     "name": "#%%\n"
    }
   }
  },
  {
   "cell_type": "code",
   "execution_count": 5,
   "outputs": [
    {
     "data": {
      "text/plain": "                    Timestamp    FIT101    LIT101 MV101 P101 P102    AIT201  \\\n37696   30/12/2015 1:51:35 AM  2,473817  714,7142     2    1    1  234,2989   \n37697   30/12/2015 1:51:36 AM  2,508728  714,2824     2    1    1  234,2989   \n37698   30/12/2015 1:51:37 AM  2,545559   714,361     2    1    1  234,2989   \n37699   30/12/2015 1:51:38 AM  2,583672  714,4787     2    1    1  234,2989   \n37700   30/12/2015 1:51:39 AM  2,619543  715,0675     2    1    1  234,2989   \n\n         AIT202   AIT203 FIT201  ...     FIT504 P501 P502    PIT501  \\\n37696   8,51051  321,456      0  ...  0,3084265    2    1  248,7984   \n37697  8,508588  321,456      0  ...  0,3065048    2    1  248,7984   \n37698  8,508588  321,456      0  ...  0,3065048    2    1  248,7984   \n37699  8,508588  321,456      0  ...  0,3077859    2    1  248,5901   \n37700  8,508588  321,456      0  ...  0,3084265    2    1  248,5901   \n\n          PIT502   PIT503 FIT601 P601 P602 P603  \n37696  0,8009483  187,516      0    1    1    1  \n37697  0,8009483  187,516      0    1    1    1  \n37698  0,8009483  187,516      0    1    1    1  \n37699  0,8009483  187,516      0    1    1    1  \n37700  0,8009483  187,516      0    1    1    1  \n\n[5 rows x 52 columns]",
      "text/html": "<div>\n<style scoped>\n    .dataframe tbody tr th:only-of-type {\n        vertical-align: middle;\n    }\n\n    .dataframe tbody tr th {\n        vertical-align: top;\n    }\n\n    .dataframe thead th {\n        text-align: right;\n    }\n</style>\n<table border=\"1\" class=\"dataframe\">\n  <thead>\n    <tr style=\"text-align: right;\">\n      <th></th>\n      <th>Timestamp</th>\n      <th>FIT101</th>\n      <th>LIT101</th>\n      <th>MV101</th>\n      <th>P101</th>\n      <th>P102</th>\n      <th>AIT201</th>\n      <th>AIT202</th>\n      <th>AIT203</th>\n      <th>FIT201</th>\n      <th>...</th>\n      <th>FIT504</th>\n      <th>P501</th>\n      <th>P502</th>\n      <th>PIT501</th>\n      <th>PIT502</th>\n      <th>PIT503</th>\n      <th>FIT601</th>\n      <th>P601</th>\n      <th>P602</th>\n      <th>P603</th>\n    </tr>\n  </thead>\n  <tbody>\n    <tr>\n      <th>37696</th>\n      <td>30/12/2015 1:51:35 AM</td>\n      <td>2,473817</td>\n      <td>714,7142</td>\n      <td>2</td>\n      <td>1</td>\n      <td>1</td>\n      <td>234,2989</td>\n      <td>8,51051</td>\n      <td>321,456</td>\n      <td>0</td>\n      <td>...</td>\n      <td>0,3084265</td>\n      <td>2</td>\n      <td>1</td>\n      <td>248,7984</td>\n      <td>0,8009483</td>\n      <td>187,516</td>\n      <td>0</td>\n      <td>1</td>\n      <td>1</td>\n      <td>1</td>\n    </tr>\n    <tr>\n      <th>37697</th>\n      <td>30/12/2015 1:51:36 AM</td>\n      <td>2,508728</td>\n      <td>714,2824</td>\n      <td>2</td>\n      <td>1</td>\n      <td>1</td>\n      <td>234,2989</td>\n      <td>8,508588</td>\n      <td>321,456</td>\n      <td>0</td>\n      <td>...</td>\n      <td>0,3065048</td>\n      <td>2</td>\n      <td>1</td>\n      <td>248,7984</td>\n      <td>0,8009483</td>\n      <td>187,516</td>\n      <td>0</td>\n      <td>1</td>\n      <td>1</td>\n      <td>1</td>\n    </tr>\n    <tr>\n      <th>37698</th>\n      <td>30/12/2015 1:51:37 AM</td>\n      <td>2,545559</td>\n      <td>714,361</td>\n      <td>2</td>\n      <td>1</td>\n      <td>1</td>\n      <td>234,2989</td>\n      <td>8,508588</td>\n      <td>321,456</td>\n      <td>0</td>\n      <td>...</td>\n      <td>0,3065048</td>\n      <td>2</td>\n      <td>1</td>\n      <td>248,7984</td>\n      <td>0,8009483</td>\n      <td>187,516</td>\n      <td>0</td>\n      <td>1</td>\n      <td>1</td>\n      <td>1</td>\n    </tr>\n    <tr>\n      <th>37699</th>\n      <td>30/12/2015 1:51:38 AM</td>\n      <td>2,583672</td>\n      <td>714,4787</td>\n      <td>2</td>\n      <td>1</td>\n      <td>1</td>\n      <td>234,2989</td>\n      <td>8,508588</td>\n      <td>321,456</td>\n      <td>0</td>\n      <td>...</td>\n      <td>0,3077859</td>\n      <td>2</td>\n      <td>1</td>\n      <td>248,5901</td>\n      <td>0,8009483</td>\n      <td>187,516</td>\n      <td>0</td>\n      <td>1</td>\n      <td>1</td>\n      <td>1</td>\n    </tr>\n    <tr>\n      <th>37700</th>\n      <td>30/12/2015 1:51:39 AM</td>\n      <td>2,619543</td>\n      <td>715,0675</td>\n      <td>2</td>\n      <td>1</td>\n      <td>1</td>\n      <td>234,2989</td>\n      <td>8,508588</td>\n      <td>321,456</td>\n      <td>0</td>\n      <td>...</td>\n      <td>0,3084265</td>\n      <td>2</td>\n      <td>1</td>\n      <td>248,5901</td>\n      <td>0,8009483</td>\n      <td>187,516</td>\n      <td>0</td>\n      <td>1</td>\n      <td>1</td>\n      <td>1</td>\n    </tr>\n  </tbody>\n</table>\n<p>5 rows × 52 columns</p>\n</div>"
     },
     "execution_count": 5,
     "metadata": {},
     "output_type": "execute_result"
    }
   ],
   "source": [
    "\n",
    "df = pd.concat([df_normal[4500:14500],df_attack[115800:143500]])\n",
    "df.reset_index(drop=True,inplace=True)\n",
    "df.isnull().sum().sum()\n",
    "\n",
    "\n",
    "df_SWaT2 = df.iloc[:,:-1]\n",
    "#df_SWaT2 = df_SWaT2.rename(index = {0:\"Sensor\"})\n",
    "df_SWaT2.loc[-1] = list(df_SWaT2.columns.values) # adding a row\n",
    "\n",
    "df_SWaT2.index = df_SWaT2.index + 1  # shifting index\n",
    "df_SWaT2 = df_SWaT2.sort_index()\n",
    "df_SWaT2.tail()"
   ],
   "metadata": {
    "collapsed": false,
    "pycharm": {
     "name": "#%%\n"
    }
   }
  },
  {
   "cell_type": "code",
   "execution_count": 6,
   "outputs": [],
   "source": [
    "def creation_sensor(name):\n",
    "    sensora = df_attack[name].apply(lambda x: str(x).replace(',', '.')).astype('float32')\n",
    "    sensorn = df_normal[name].apply(lambda x: str(x).replace(',', '.')).astype('float32')\n",
    "    sensor = pd.concat([sensorn[4500:14500],sensora[115800:143500]],ignore_index=True)\n",
    "    return sensor\n",
    "\n",
    "def matrix_profile(sensor_values,window):\n",
    "    p = mp.compute(sensor_values,windows=window,n_jobs=-1)\n",
    "    discord = mp.discover.discords(p,exclusion_zone=0,k=3)\n",
    "    #mp.visualize(p)\n",
    "\n",
    "    return discord\n",
    "\n",
    "def Lerp(value,a,b):\n",
    "    return (value-b)/(a - b)"
   ],
   "metadata": {
    "collapsed": false,
    "pycharm": {
     "name": "#%%\n"
    }
   }
  },
  {
   "cell_type": "code",
   "execution_count": 7,
   "outputs": [],
   "source": [
    "list0 = [0]*37700\n",
    "for k in range(37700):\n",
    "    if k%1500==0:\n",
    "        list0[k:k+50] = [3]*50\n",
    "\n",
    "list1 = [0]*37700\n",
    "for k in range(20000):\n",
    "    if k%2500==0:\n",
    "        list1[k:k+50] = [3]*50\n",
    "for k in range(20000,37700):\n",
    "    if (k+500)%2500==0:\n",
    "        list1[k:k+50] = [3]*50\n",
    "\n",
    "list2 = [0]*37700\n",
    "for k in range(37700):\n",
    "    if k%2500==0:\n",
    "        list2[k:k+50] = [3]*50\n",
    "for k in range(20000,21000):\n",
    "    list2[k:k+50] = [3]*50\n",
    "\n",
    "list4 = [0]*37700\n",
    "for k in range(37700):\n",
    "    if k%1500==0:\n",
    "        list4[k:k+50] = [3]*50\n",
    "\n",
    "list_training_alert0 = [0]*37700\n",
    "list_training_alert1 = [0]*37700\n",
    "list_training_alert2 = [0]*37700\n",
    "list_training_alert3 = [0]*37700\n",
    "\n",
    "list_training_alert1[20000:25000]=[1]*5000\n",
    "list_training_alert2[19000:21000]=[1]*2000\n",
    "list_training_alert3[20000:25000]=[1]*5000"
   ],
   "metadata": {
    "collapsed": false,
    "pycharm": {
     "name": "#%%\n"
    }
   }
  },
  {
   "cell_type": "code",
   "execution_count": 8,
   "outputs": [
    {
     "name": "stdout",
     "output_type": "stream",
     "text": [
      "37700\n"
     ]
    }
   ],
   "source": [
    "list_sensors = []\n",
    "\n",
    "for k in range(1,52):\n",
    "    sensor_values = list(map(lambda x: float(str(x).replace(',', '.')), df_SWaT2.iloc[1:,k].tolist()))\n",
    "    sensor_name = str(df_SWaT2.iloc[0,k]).replace(' ','')\n",
    "    sensor = {\"Name\": sensor_name, \"Values\": sensor_values}\n",
    "\n",
    "    list_sensors.append(sensor)\n",
    "list_sensors.append({\"Name\": \"Training0\", \"Values\": list0})\n",
    "list_sensors.append({\"Name\": \"Training1\", \"Values\": list1})\n",
    "list_sensors.append({\"Name\": \"Training2\", \"Values\": list2})\n",
    "list_sensors.append({\"Name\": \"Training3\", \"Values\": list0})\n",
    "ListSensors = {\"Sensors\": list_sensors}\n",
    "print(len(ListSensors[\"Sensors\"][0][\"Values\"]))\n",
    "with open('D:\\_ProjetsUnity\\ProjetVisus\\Assets\\Resources\\SWaT3000.json', 'w') as f:\n",
    "    json.dump(ListSensors, f)"
   ],
   "metadata": {
    "collapsed": false,
    "pycharm": {
     "name": "#%%\n"
    }
   }
  },
  {
   "cell_type": "code",
   "execution_count": 9,
   "outputs": [
    {
     "name": "stdout",
     "output_type": "stream",
     "text": [
      "0 : FIT101\n",
      "1 : LIT101\n",
      "2 : MV101\n",
      "3 : P101\n",
      "4 : P102\n",
      "5 : AIT201\n",
      "6 : AIT202\n",
      "7 : AIT203\n",
      "8 : FIT201\n",
      "9 : MV201\n",
      "10 : P201\n",
      "11 : P202\n",
      "12 : P203\n",
      "13 : P204\n",
      "14 : P205\n",
      "15 : P206\n",
      "16 : DPIT301\n",
      "17 : FIT301\n",
      "18 : LIT301\n",
      "19 : MV301\n",
      "20 : MV302\n",
      "21 : MV303\n",
      "22 : MV304\n",
      "23 : P301\n",
      "24 : P302\n",
      "25 : AIT401\n",
      "26 : AIT402\n",
      "27 : FIT401\n",
      "28 : LIT401\n",
      "29 : P401\n",
      "30 : P402\n",
      "31 : P403\n",
      "32 : P404\n",
      "33 : UV401\n",
      "34 : AIT501\n",
      "35 : AIT502\n",
      "36 : AIT503\n",
      "37 : AIT504\n",
      "38 : FIT501\n",
      "39 : FIT502\n",
      "40 : FIT503\n",
      "41 : FIT504\n",
      "42 : P501\n",
      "43 : P502\n",
      "44 : PIT501\n",
      "45 : PIT502\n",
      "46 : PIT503\n",
      "47 : FIT601\n",
      "48 : P601\n",
      "49 : P602\n",
      "50 : P603\n",
      "51 : Training0\n",
      "52 : Training1\n",
      "53 : Training2\n",
      "54 : Training3\n"
     ]
    }
   ],
   "source": [
    "for k in range(len(ListSensors[\"Sensors\"])):\n",
    "    print(str(k) + \" : \" + ListSensors[\"Sensors\"][k][\"Name\"])"
   ],
   "metadata": {
    "collapsed": false,
    "pycharm": {
     "name": "#%%\n"
    }
   }
  },
  {
   "cell_type": "code",
   "execution_count": 10,
   "outputs": [
    {
     "data": {
      "text/plain": "[<matplotlib.lines.Line2D at 0x25ede5f6220>]"
     },
     "execution_count": 10,
     "metadata": {},
     "output_type": "execute_result"
    },
    {
     "data": {
      "text/plain": "<Figure size 432x288 with 1 Axes>",
      "image/png": "[encoded data removed]"
     },
     "metadata": {
      "needs_background": "light"
     },
     "output_type": "display_data"
    }
   ],
   "source": [
    "plt.plot(ListSensors[\"Sensors\"][0][\"Values\"])"
   ],
   "metadata": {
    "collapsed": false,
    "pycharm": {
     "name": "#%%\n"
    }
   }
  },
  {
   "cell_type": "code",
   "execution_count": 11,
   "outputs": [
    {
     "data": {
      "text/plain": "[<matplotlib.lines.Line2D at 0x25ee9cce790>]"
     },
     "execution_count": 11,
     "metadata": {},
     "output_type": "execute_result"
    },
    {
     "data": {
      "text/plain": "<Figure size 432x288 with 1 Axes>",
      "image/png": "[encoded data removed]"
     },
     "metadata": {
      "needs_background": "light"
     },
     "output_type": "display_data"
    }
   ],
   "source": [
    "plt.plot(ListSensors[\"Sensors\"][16][\"Values\"])"
   ],
   "metadata": {
    "collapsed": false,
    "pycharm": {
     "name": "#%%\n"
    }
   }
  },
  {
   "cell_type": "code",
   "execution_count": 12,
   "outputs": [],
   "source": [
    "def creation_alerts(name_sensor,window,begin_at_zero = True,alert_type_1 = 0.55,alert_type_2 = 0.5):\n",
    "\n",
    "    values_sensor = creation_sensor(name_sensor)\n",
    "    if begin_at_zero:\n",
    "        sensor_discord = matrix_profile(values_sensor.values,window)\n",
    "    else:\n",
    "        sensor_discord = matrix_profile(values_sensor.values[10000:],window)\n",
    "\n",
    "    max_sensor = max(sensor_discord['mp'])\n",
    "    min_sensor = min(sensor_discord['mp'])\n",
    "    profile_sensor = []\n",
    "\n",
    "    for j in sensor_discord['mp']:\n",
    "        profile_sensor.append(Lerp(j,max_sensor,min_sensor))\n",
    "\n",
    "    if not begin_at_zero:\n",
    "        list_sensor_discords = [0]*10000\n",
    "        profile_sensor = list_sensor_discords + profile_sensor\n",
    "\n",
    "\n",
    "    #plt.plot(values_sensor.values)\n",
    "    plt.plot(profile_sensor)\n",
    "    plt.axhline(y = alert_type_1, color = 'r', linestyle = '-')\n",
    "    plt.axhline(y = alert_type_2, color = 'y', linestyle = '-')\n",
    "\n",
    "    sensor_alert_1 = [0]*len(profile_sensor)\n",
    "    sensor_alert_2 = [0]*len(profile_sensor)\n",
    "\n",
    "    for i in range(len(profile_sensor)):\n",
    "        if profile_sensor[i] > alert_type_1:\n",
    "            sensor_alert_1[i] = 1\n",
    "        elif profile_sensor[i] > alert_type_2:\n",
    "            sensor_alert_2[i] = 1\n",
    "\n",
    "    list_adjustment = [0]*(window-1)\n",
    "    sensor_alert_1 = list_adjustment + sensor_alert_1\n",
    "    sensor_alert_2 = list_adjustment + sensor_alert_2\n",
    "    print(name_sensor + \" len_alert: \" + str(len(sensor_alert_2)))\n",
    "    return [sensor_alert_1,sensor_alert_2]\n",
    "\n",
    "def alerts_to_json(n,alerts1,alerts2):\n",
    "    sensor_to_list = [{\"Name\": n, \"Alerts1\": alerts1, \"Alerts2\": alerts2}]\n",
    "    list_alerts = {\"multipleAlerts\":sensor_to_list}\n",
    "    return list_alerts"
   ],
   "metadata": {
    "collapsed": false,
    "pycharm": {
     "name": "#%%\n"
    }
   }
  },
  {
   "cell_type": "code",
   "execution_count": 13,
   "outputs": [
    {
     "name": "stdout",
     "output_type": "stream",
     "text": [
      "DPIT301 len_alert: 37700\n",
      "LIT401 len_alert: 37700\n",
      "P205 len_alert: 37700\n",
      "AIT202 len_alert: 37700\n",
      "MV301 len_alert: 37700\n"
     ]
    },
    {
     "data": {
      "text/plain": "<Figure size 432x288 with 1 Axes>",
      "image/png": "[encoded data removed]"
     },
     "metadata": {
      "needs_background": "light"
     },
     "output_type": "display_data"
    }
   ],
   "source": [
    "list_alerts_2000= [\"DPIT301\", \"LIT401\"]\n",
    "list_alerts_4400 = [\"P205\", \"AIT202\"]\n",
    "sensor_to_unity = []\n",
    "list_empty = [0]*37700\n",
    "for alert in list_alerts_2000:\n",
    "    alerts_to_unity = creation_alerts(alert,2000)\n",
    "    sensor_to_list = {\"Name\": alert, \"Alerts1\": alerts_to_unity[0], \"Alerts2\": alerts_to_unity[1]}\n",
    "    sensor_to_unity.append(sensor_to_list)\n",
    "\n",
    "for alert in list_alerts_4400:\n",
    "    alerts_to_unity = creation_alerts(alert,window = 4400,begin_at_zero=True)\n",
    "    sensor_to_list = {\"Name\": alert, \"Alerts1\": alerts_to_unity[0], \"Alerts2\": alerts_to_unity[1]}\n",
    "    sensor_to_unity.append(sensor_to_list)\n",
    "\n",
    "alerts_to_unity = creation_alerts(\"MV301\",window=4400,begin_at_zero=True)\n",
    "sensor_to_list = {\"Name\": \"MV301\", \"Alerts1\": alerts_to_unity[0], \"Alerts2\": alerts_to_unity[1]}\n",
    "sensor_to_unity.append(sensor_to_list)\n",
    "\n",
    "sensor_to_unity.append({\"Name\": \"FIT101\", \"Alerts1\": list_empty, \"Alerts2\": list_empty})\n",
    "sensor_to_unity.append({\"Name\": \"FIT201\", \"Alerts1\": list_empty, \"Alerts2\": list_empty})\n",
    "sensor_to_unity.append({\"Name\": \"MV201\", \"Alerts1\": list_empty, \"Alerts2\": list_empty})\n",
    "sensor_to_unity.append({\"Name\": \"LIT101\", \"Alerts1\": list_empty, \"Alerts2\": list_empty})\n",
    "sensor_to_unity.append({\"Name\": \"P101\", \"Alerts1\": list_empty, \"Alerts2\": list_empty})\n",
    "\n",
    "sensor_to_unity.append({\"Name\": \"Training0\", \"Alerts1\": list_training_alert0, \"Alerts2\": list_empty})\n",
    "sensor_to_unity.append({\"Name\": \"Training1\", \"Alerts1\": list_training_alert1, \"Alerts2\": list_empty})\n",
    "sensor_to_unity.append({\"Name\": \"Training2\", \"Alerts1\": list_training_alert2, \"Alerts2\": list_empty})\n",
    "sensor_to_unity.append({\"Name\": \"Training3\", \"Alerts1\": list_training_alert3, \"Alerts2\": list_empty})\n",
    "\n",
    "\n",
    "export_alerts = {\"multipleAlerts\":sensor_to_unity}\n",
    "\n",
    "with open('D:\\_ProjetsUnity\\ProjetVisus\\Assets\\Resources\\SWaT3000alerts.json', 'w') as f:\n",
    "    json.dump(export_alerts, f)"
   ],
   "metadata": {
    "collapsed": false,
    "pycharm": {
     "name": "#%%\n"
    }
   }
  },
  {
   "cell_type": "code",
   "execution_count": 14,
   "outputs": [
    {
     "name": "stdout",
     "output_type": "stream",
     "text": [
      "multipleAlerts\n",
      "Name\n",
      "Alerts1\n",
      "Alerts2\n"
     ]
    }
   ],
   "source": [
    "for key, value in export_alerts.items() :\n",
    "    print(key)\n",
    "for key, value in export_alerts[\"multipleAlerts\"][0].items() :\n",
    "    print(key)"
   ],
   "metadata": {
    "collapsed": false,
    "pycharm": {
     "name": "#%%\n"
    }
   }
  },
  {
   "cell_type": "code",
   "execution_count": 15,
   "outputs": [
    {
     "name": "stdout",
     "output_type": "stream",
     "text": [
      "P205 len_alert: 37700\n"
     ]
    },
    {
     "data": {
      "text/plain": "<Figure size 432x288 with 1 Axes>",
      "image/png": "[encoded data removed]"
     },
     "metadata": {
      "needs_background": "light"
     },
     "output_type": "display_data"
    }
   ],
   "source": [
    "list = creation_alerts(\"P205\",begin_at_zero=False,window=4400)"
   ],
   "metadata": {
    "collapsed": false,
    "pycharm": {
     "name": "#%%\n"
    }
   }
  },
  {
   "cell_type": "code",
   "execution_count": 16,
   "outputs": [
    {
     "name": "stdout",
     "output_type": "stream",
     "text": [
      "Training0\n"
     ]
    },
    {
     "data": {
      "text/plain": "<Figure size 432x288 with 1 Axes>",
      "image/png": "[encoded data removed]"
     },
     "metadata": {
      "needs_background": "light"
     },
     "output_type": "display_data"
    }
   ],
   "source": [
    "plt.plot(export_alerts[\"multipleAlerts\"][4][\"Alerts2\"])\n",
    "print(export_alerts[\"multipleAlerts\"][10][\"Name\"])"
   ],
   "metadata": {
    "collapsed": false,
    "pycharm": {
     "name": "#%%\n"
    }
   }
  },
  {
   "cell_type": "code",
   "execution_count": 17,
   "outputs": [],
   "source": [
    "def CreateBarAlert(name,alerts):\n",
    "    l=len(alerts[\"Alerts2\"])\n",
    "    h,w = 1024,l+20\n",
    "    data = np.zeros((h,w, 3), dtype=np.uint8)\n",
    "    for k in range(len(alerts[\"Alerts2\"])):\n",
    "        x = [255,255,255]\n",
    "        if alerts[\"Alerts1\"][k]==1:\n",
    "            x = [255,0,0]\n",
    "        if alerts[\"Alerts2\"][k]==1:\n",
    "            x = [255,255,0]\n",
    "        data[0:1024,k+1:k+2]=x\n",
    "        data[0:1024,0:10]=[0,0,0]\n",
    "        data[0:1024,l:l+10]=[0,0,0]\n",
    "\n",
    "    #data[0:256, 0:256] = [255, 0, 0] # red patch in upper left\n",
    "    #data[0:256, 256:512] = [255, 255, 0] # red patch in upper left\n",
    "    img = Image.fromarray(data, 'RGB')\n",
    "    img.save(name)\n",
    "    img.show()"
   ],
   "metadata": {
    "collapsed": false,
    "pycharm": {
     "name": "#%%\n"
    }
   }
  },
  {
   "cell_type": "code",
   "execution_count": 18,
   "outputs": [],
   "source": [
    "CreateBarAlert(\"C:\\\\Users\\Delcombel\\Desktop\\Alerts.png\",export_alerts[\"multipleAlerts\"][11])"
   ],
   "metadata": {
    "collapsed": false,
    "pycharm": {
     "name": "#%%\n"
    }
   }
  },
  {
   "cell_type": "code",
   "execution_count": 19,
   "outputs": [
    {
     "name": "stdout",
     "output_type": "stream",
     "text": [
      "37700\n",
      "35701\n"
     ]
    }
   ],
   "source": [
    "DPIT301 = creation_sensor('DPIT301')\n",
    "DPIT301discord = matrix_profile(DPIT301.values,2000)\n",
    "print(len(DPIT301.values))\n",
    "print(len(DPIT301discord['mp']))"
   ],
   "metadata": {
    "collapsed": false,
    "pycharm": {
     "name": "#%%\n"
    }
   }
  },
  {
   "cell_type": "code",
   "execution_count": 20,
   "outputs": [],
   "source": [
    "max_mp = max(DPIT301discord['mp'])\n",
    "min_mp = min(DPIT301discord['mp'])"
   ],
   "metadata": {
    "collapsed": false,
    "pycharm": {
     "name": "#%%\n"
    }
   }
  },
  {
   "cell_type": "code",
   "execution_count": 21,
   "outputs": [
    {
     "data": {
      "text/plain": "<Figure size 432x288 with 1 Axes>",
      "image/png": "[encoded data removed]"
     },
     "metadata": {
      "needs_background": "light"
     },
     "output_type": "display_data"
    }
   ],
   "source": [
    "profile_dpit301 = []\n",
    "for k in DPIT301discord['mp']:\n",
    "    profile_dpit301.append(Lerp(k,max_mp,min_mp))\n",
    "\n",
    "plt.plot(profile_dpit301)\n",
    "a1 = 0.65\n",
    "a2 = 0.6\n",
    "plt.axhline(y = a1, color = 'r', linestyle = '-')\n",
    "plt.axhline(y = a2, color = 'y', linestyle = '-')\n",
    "\n",
    "dpit301_alert_1 = [0]*len(profile_dpit301)\n",
    "dpit301_alert_2 = [0]*len(profile_dpit301)\n",
    "for k in range(len(profile_dpit301)):\n",
    "    if profile_dpit301[k] > a1:\n",
    "        dpit301_alert_1[k] = 1\n",
    "    elif profile_dpit301[k] > a2:\n",
    "        dpit301_alert_2[k] = 1\n",
    "\n",
    "list_ajustement = [0]*1999 # window - 1\n",
    "dpit301_alert_1 = list_ajustement + dpit301_alert_1\n",
    "dpit301_alert_2 = list_ajustement + dpit301_alert_2\n",
    "\n",
    "## dpit301_alert_2 = [item for item in profile_dpit301 if item > alert_type_2]"
   ],
   "metadata": {
    "collapsed": false,
    "pycharm": {
     "name": "#%%\n"
    }
   }
  },
  {
   "cell_type": "code",
   "execution_count": 22,
   "outputs": [
    {
     "name": "stdout",
     "output_type": "stream",
     "text": [
      "37700\n"
     ]
    },
    {
     "data": {
      "text/plain": "[<matplotlib.lines.Line2D at 0x25ee9d75e80>]"
     },
     "execution_count": 22,
     "metadata": {},
     "output_type": "execute_result"
    },
    {
     "data": {
      "text/plain": "<Figure size 432x288 with 1 Axes>",
      "image/png": "[encoded data removed]"
     },
     "metadata": {
      "needs_background": "light"
     },
     "output_type": "display_data"
    }
   ],
   "source": [
    "print(len(dpit301_alert_1))\n",
    "plt.plot(DPIT301.values)\n",
    "plt.plot(dpit301_alert_1)"
   ],
   "metadata": {
    "collapsed": false,
    "pycharm": {
     "name": "#%%\n"
    }
   }
  },
  {
   "cell_type": "code",
   "execution_count": 23,
   "outputs": [
    {
     "data": {
      "text/plain": "[<matplotlib.lines.Line2D at 0x25eeabc5fd0>]"
     },
     "execution_count": 23,
     "metadata": {},
     "output_type": "execute_result"
    },
    {
     "data": {
      "text/plain": "<Figure size 432x288 with 1 Axes>",
      "image/png": "[encoded data removed]"
     },
     "metadata": {
      "needs_background": "light"
     },
     "output_type": "display_data"
    }
   ],
   "source": [
    "plt.plot(df_SWaT2['DPIT301'][1:])"
   ],
   "metadata": {
    "collapsed": false,
    "pycharm": {
     "name": "#%%\n"
    }
   }
  },
  {
   "cell_type": "code",
   "execution_count": 24,
   "outputs": [],
   "source": [
    "#LIT401a = df_attack['LIT401'].apply(lambda x: x.replace(',', '.')).astype('float32')\n",
    "#LIT401n = df_normal['LIT401'].apply(lambda x: x.replace(',', '.')).astype('float32')\n",
    "DPIT301n = df_normal['DPIT301'].apply(lambda x: x.replace(',', '.')).astype('float32')\n",
    "DPIT301a = df_attack['DPIT301'].apply(lambda x: x.replace(',', '.')).astype('float32')\n",
    "FIT101 = df['FIT101'].apply(lambda x: float(str(x).replace(',', '.'))).astype('float32')\n",
    "FIT201 = df['FIT201'].apply(lambda x: float(str(x).replace(',', '.'))).astype('float32')\n",
    "MV201 = df['MV201'].apply(lambda x: float(str(x).replace(',', '.'))).astype('float32')\n",
    "DPIT301 = pd.concat([DPIT301n[3000:13000],DPIT301a[116000:144000]],ignore_index=True)\n",
    "#LIT401 = pd.concat([LIT401n[3000:13000],LIT401a[116000:144000]],ignore_index=True)\n",
    "LIT301a = df_attack['LIT301'].apply(lambda x: x.replace(',', '.')).astype('float32')\n",
    "LIT301n = df_normal['LIT301'].apply(lambda x: x.replace(',', '.')).astype('float32')\n",
    "LIT301 = pd.concat([LIT301n[3000:13000],LIT301a[116000:144000]],ignore_index=True)"
   ],
   "metadata": {
    "collapsed": false,
    "pycharm": {
     "name": "#%%\n"
    }
   }
  },
  {
   "cell_type": "code",
   "execution_count": 24,
   "outputs": [],
   "source": [],
   "metadata": {
    "collapsed": false,
    "pycharm": {
     "name": "#%%\n"
    }
   }
  },
  {
   "cell_type": "code",
   "execution_count": 25,
   "outputs": [
    {
     "data": {
      "text/plain": "[<matplotlib.lines.Line2D at 0x25eea744160>]"
     },
     "execution_count": 25,
     "metadata": {},
     "output_type": "execute_result"
    },
    {
     "data": {
      "text/plain": "<Figure size 432x288 with 2 Axes>",
      "image/png": "[encoded data removed]"
     },
     "metadata": {
      "needs_background": "light"
     },
     "output_type": "display_data"
    }
   ],
   "source": [
    "fig, axs = plt.subplots(2)\n",
    "fig.suptitle('sensors')\n",
    "axs[1].plot(DPIT301)\n",
    "axs[0].plot(LIT301)"
   ],
   "metadata": {
    "collapsed": false,
    "pycharm": {
     "name": "#%%\n"
    }
   }
  },
  {
   "cell_type": "code",
   "execution_count": 25,
   "outputs": [],
   "source": [],
   "metadata": {
    "collapsed": false,
    "pycharm": {
     "name": "#%%\n"
    }
   }
  },
  {
   "cell_type": "code",
   "execution_count": 25,
   "outputs": [],
   "source": [],
   "metadata": {
    "collapsed": false,
    "pycharm": {
     "name": "#%%\n"
    }
   }
  },
  {
   "cell_type": "code",
   "execution_count": 25,
   "outputs": [],
   "source": [],
   "metadata": {
    "collapsed": false,
    "pycharm": {
     "name": "#%%\n"
    }
   }
  },
  {
   "cell_type": "code",
   "execution_count": 26,
   "outputs": [],
   "source": [
    "AIT202 = creation_sensor('AIT202')\n",
    "AIT202_discord = matrix_profile(AIT202.values,2000)"
   ],
   "metadata": {
    "collapsed": false,
    "pycharm": {
     "name": "#%%\n"
    }
   }
  },
  {
   "cell_type": "code",
   "execution_count": 27,
   "outputs": [],
   "source": [
    "MV301 = creation_sensor('MV301')\n",
    "MV301_discord = matrix_profile(MV301.values,2000)"
   ],
   "metadata": {
    "collapsed": false,
    "pycharm": {
     "name": "#%%\n"
    }
   }
  },
  {
   "cell_type": "code",
   "execution_count": 28,
   "outputs": [],
   "source": [
    "P205 = creation_sensor('P205')\n",
    "P205_discord = matrix_profile(P205.values,2000)"
   ],
   "metadata": {
    "collapsed": false,
    "pycharm": {
     "name": "#%%\n"
    }
   }
  },
  {
   "cell_type": "code",
   "execution_count": 29,
   "outputs": [],
   "source": [
    "\n",
    "P101 = creation_sensor('P101')\n",
    "P101_discord = matrix_profile(P101.values,500)"
   ],
   "metadata": {
    "collapsed": false,
    "pycharm": {
     "name": "#%%\n"
    }
   }
  },
  {
   "cell_type": "code",
   "execution_count": 30,
   "outputs": [],
   "source": [
    "LIT101 = creation_sensor('LIT101')\n",
    "LIT101_discord = matrix_profile(LIT101.values,2000)"
   ],
   "metadata": {
    "collapsed": false,
    "pycharm": {
     "name": "#%%\n"
    }
   }
  },
  {
   "cell_type": "code",
   "execution_count": 31,
   "outputs": [
    {
     "name": "stdout",
     "output_type": "stream",
     "text": [
      "LIT401\n"
     ]
    },
    {
     "ename": "NameError",
     "evalue": "name 'LIT401' is not defined",
     "output_type": "error",
     "traceback": [
      "\u001B[1;31m---------------------------------------------------------------------------\u001B[0m",
      "\u001B[1;31mNameError\u001B[0m                                 Traceback (most recent call last)",
      "\u001B[1;32m<ipython-input-31-46fa36605a3e>\u001B[0m in \u001B[0;36m<module>\u001B[1;34m\u001B[0m\n\u001B[0;32m      1\u001B[0m \u001B[0mprint\u001B[0m\u001B[1;33m(\u001B[0m\u001B[1;34m\"LIT401\"\u001B[0m\u001B[1;33m)\u001B[0m\u001B[1;33m\u001B[0m\u001B[1;33m\u001B[0m\u001B[0m\n\u001B[1;32m----> 2\u001B[1;33m \u001B[0mLIT401profile\u001B[0m \u001B[1;33m=\u001B[0m \u001B[0mmp\u001B[0m\u001B[1;33m.\u001B[0m\u001B[0mcompute\u001B[0m\u001B[1;33m(\u001B[0m\u001B[0mLIT401\u001B[0m\u001B[1;33m.\u001B[0m\u001B[0mvalues\u001B[0m\u001B[1;33m,\u001B[0m\u001B[0mwindows\u001B[0m\u001B[1;33m=\u001B[0m\u001B[1;36m500\u001B[0m\u001B[1;33m)\u001B[0m\u001B[1;33m\u001B[0m\u001B[1;33m\u001B[0m\u001B[0m\n\u001B[0m\u001B[0;32m      3\u001B[0m \u001B[0mLIT401discord\u001B[0m \u001B[1;33m=\u001B[0m \u001B[0mmp\u001B[0m\u001B[1;33m.\u001B[0m\u001B[0mdiscover\u001B[0m\u001B[1;33m.\u001B[0m\u001B[0mdiscords\u001B[0m\u001B[1;33m(\u001B[0m\u001B[0mLIT401profile\u001B[0m\u001B[1;33m,\u001B[0m\u001B[0mk\u001B[0m\u001B[1;33m=\u001B[0m\u001B[1;36m10\u001B[0m\u001B[1;33m)\u001B[0m\u001B[1;33m\u001B[0m\u001B[1;33m\u001B[0m\u001B[0m\n\u001B[0;32m      4\u001B[0m \u001B[0mfigures\u001B[0m \u001B[1;33m=\u001B[0m \u001B[0mmp\u001B[0m\u001B[1;33m.\u001B[0m\u001B[0mvisualize\u001B[0m\u001B[1;33m(\u001B[0m\u001B[0mLIT401discord\u001B[0m\u001B[1;33m)\u001B[0m\u001B[1;33m\u001B[0m\u001B[1;33m\u001B[0m\u001B[0m\n\u001B[0;32m      5\u001B[0m \u001B[1;33m\u001B[0m\u001B[0m\n",
      "\u001B[1;31mNameError\u001B[0m: name 'LIT401' is not defined"
     ]
    }
   ],
   "source": [
    "print(\"LIT401\")\n",
    "LIT401profile = mp.compute(LIT401.values,windows=500)\n",
    "LIT401discord = mp.discover.discords(LIT401profile,k=10)\n",
    "figures = mp.visualize(LIT401discord)"
   ],
   "metadata": {
    "collapsed": false,
    "pycharm": {
     "name": "#%%\n"
    }
   }
  },
  {
   "cell_type": "code",
   "execution_count": null,
   "outputs": [],
   "source": [
    "p = mp.compute(DPIT301.values,windows=2000,n_jobs=-1)\n",
    "DPIT301discord = mp.discover.discords(p,exclusion_zone=2000,k=5)\n",
    "figures = mp.visualize(DPIT301discord)\n",
    "print(DPIT301discord['discords'])\n",
    "plt.plot(DPIT301.values)\n",
    "for discord in DPIT301discord['discords']:\n",
    "    dt = discord\n",
    "    val = 0\n",
    "    plt.plot(dt, val, c='r', marker='*', markersize=10)\n"
   ],
   "metadata": {
    "collapsed": false,
    "pycharm": {
     "name": "#%%\n"
    }
   }
  },
  {
   "cell_type": "code",
   "execution_count": null,
   "outputs": [],
   "source": [
    "print(\"FIT101\")\n",
    "FIT101profile = mp.compute(FIT101.values[:3600*24],windows=700)\n",
    "FIT101discord = mp.discover.discords(FIT101profile,k=10)\n",
    "figures = mp.visualize(FIT101discord)"
   ],
   "metadata": {
    "collapsed": false,
    "pycharm": {
     "name": "#%%\n"
    }
   }
  },
  {
   "cell_type": "code",
   "execution_count": null,
   "outputs": [],
   "source": [
    "print(\"FIT201\")\n",
    "FIT201profile = mp.compute(FIT201.values[:3600*24],windows=700)\n",
    "FIT201discord = mp.discover.discords(FIT201profile,k=10)\n",
    "figures = mp.visualize(FIT201discord)"
   ],
   "metadata": {
    "collapsed": false,
    "pycharm": {
     "name": "#%%\n"
    }
   }
  },
  {
   "cell_type": "code",
   "execution_count": null,
   "outputs": [],
   "source": [
    "print(\"MV201\")\n",
    "MV201profile = mp.compute(MV201.values[:3600*24],windows=700)\n",
    "MV201discord = mp.discover.discords(MV201profile,k=10)\n",
    "figures = mp.visualize(MV201discord)\n"
   ],
   "metadata": {
    "collapsed": false,
    "pycharm": {
     "name": "#%%\n"
    }
   }
  },
  {
   "cell_type": "code",
   "execution_count": null,
   "outputs": [],
   "source": [
    "df_DPIT301 = pd.read_csv(\n",
    "  'D:\\Datasets\\SWaT\\SWaT.A1 _ A2_Dec 2015\\Physical\\SWaT_Dataset_Attack_v0_CSV.csv',header = 1)\n",
    "df_DPIT301 = df_DPIT301['DPIT301']\n",
    "df_DPIT301.tail()\n",
    "\n"
   ],
   "metadata": {
    "collapsed": false,
    "pycharm": {
     "name": "#%%\n"
    }
   }
  },
  {
   "cell_type": "code",
   "execution_count": null,
   "outputs": [],
   "source": [
    "\n",
    "s = df_SWaT2.iloc[[0]]\n",
    "for k in range((s.size-1)):\n",
    "    print(k)\n",
    "    df_SWaT2.iloc[0,k]=df_SWaT2.iloc[0,k].replace(' ','')\n",
    "    print(df_SWaT2.iloc[0,k])\n",
    "    if df_SWaT2.iloc[0,k]==\" MV201\":\n",
    "        print('sdf')\n"
   ],
   "metadata": {
    "collapsed": false,
    "pycharm": {
     "name": "#%%\n"
    }
   }
  },
  {
   "cell_type": "code",
   "execution_count": null,
   "outputs": [],
   "source": [
    "print(df_SWaT2.iloc[0,2])"
   ],
   "metadata": {
    "collapsed": false,
    "pycharm": {
     "name": "#%%\n"
    }
   }
  },
  {
   "cell_type": "code",
   "execution_count": null,
   "outputs": [],
   "source": [
    "with open('_SWaT.json', 'w') as f:\n",
    "    json.dump(ListSensors, f)"
   ],
   "metadata": {
    "collapsed": false,
    "pycharm": {
     "name": "#%%\n"
    }
   }
  },
  {
   "cell_type": "code",
   "execution_count": null,
   "outputs": [],
   "source": [
    "df = pd.DataFrame({'Name':[values.keys()],'Values':val})\n",
    "df.head()"
   ],
   "metadata": {
    "collapsed": false,
    "pycharm": {
     "name": "#%%\n"
    }
   }
  },
  {
   "cell_type": "code",
   "execution_count": null,
   "outputs": [],
   "source": [
    "df_SWaT2.to_json(r'D:\\Code\\pythonProject\\SWaT.json',orient=\"split\", index = False)"
   ],
   "metadata": {
    "collapsed": false,
    "pycharm": {
     "name": "#%%\n"
    }
   }
  },
  {
   "cell_type": "code",
   "execution_count": null,
   "outputs": [],
   "source": [
    "#df_DARPA = pd.read_csv('D:\\Datasets\\DARPA\\weekHTTP.csv')\n",
    "df_DARPA = pd.read_csv('D:\\Datasets\\DARPA\\week2outside.csv')\n",
    "df_DARPA.head()\n",
    "print(df_DARPA.dtypes)"
   ],
   "metadata": {
    "collapsed": false,
    "pycharm": {
     "name": "#%% DARPA\n"
    }
   }
  },
  {
   "cell_type": "code",
   "execution_count": null,
   "outputs": [],
   "source": [
    "df_DARPA['Time'] =pd.to_datetime(df_DARPA['Time'])\n",
    "df_DARPA.head(20)"
   ],
   "metadata": {
    "collapsed": false,
    "pycharm": {
     "name": "#%%\n"
    }
   }
  },
  {
   "cell_type": "code",
   "execution_count": null,
   "outputs": [],
   "source": [
    "df2=df_DARPA.groupby([df_DARPA[\"Time\"].dt.hour, \"Source\",\"Destination\"])[\"No.\"].count().to_frame(name=\"Count\")\n",
    "df2.head()"
   ],
   "metadata": {
    "collapsed": false,
    "pycharm": {
     "name": "#%%\n"
    }
   }
  },
  {
   "cell_type": "code",
   "execution_count": null,
   "outputs": [],
   "source": [
    "df2.to_json(r'D:\\Code\\pythonProject\\export.json',orient=\"table\")"
   ],
   "metadata": {
    "collapsed": false,
    "pycharm": {
     "name": "#%%\n"
    }
   }
  },
  {
   "cell_type": "code",
   "execution_count": null,
   "outputs": [],
   "source": [
    "df1=df_DARPA.groupby([df_DARPA[\"Time\"].dt.hour, \"Source\",\"Destination\",\"Protocol\"])[\"No.\"].count().reset_index()\n",
    "df1.head(20)"
   ],
   "metadata": {
    "collapsed": false,
    "pycharm": {
     "name": "#%%\n"
    }
   }
  },
  {
   "cell_type": "code",
   "execution_count": null,
   "outputs": [],
   "source": [
    "df_new = df1.rename(columns={'No.': 'Count'})\n",
    "df_new.head(10)"
   ],
   "metadata": {
    "collapsed": false,
    "pycharm": {
     "name": "#%%\n"
    }
   }
  },
  {
   "cell_type": "code",
   "source": [
    "nbrTime = df_new['Time'].nunique()\n",
    "print(nbrTime)\n",
    "nbrSource = df_new['Source'].nunique()\n",
    "print(nbrSource)\n",
    "nbrDestination = df_new['Destination'].nunique()\n",
    "print(nbrDestination)\n",
    "\n",
    "Times = df_new.Time.unique()\n",
    "print(len(Times))\n",
    "print(Times)\n",
    "Sources = df_new.Source.unique()\n",
    "print(len(Sources))\n",
    "print(Sources)\n",
    "Destinations = df_new.Destination.unique()\n",
    "print(len(Destinations))\n",
    "print(Destinations)"
   ],
   "metadata": {
    "collapsed": false,
    "pycharm": {
     "name": "#%%\n"
    }
   },
   "execution_count": null,
   "outputs": []
  },
  {
   "cell_type": "code",
   "execution_count": null,
   "outputs": [],
   "source": [
    "\n",
    "Informations = {\n",
    "  \"Times\": Times.tolist(),\n",
    "  \"Sources\": Sources.tolist(),\n",
    "  \"Destinations\": Destinations.tolist()\n",
    "}\n",
    "with open('Informations.json', 'w') as f:\n",
    "    json.dump(Informations, f)"
   ],
   "metadata": {
    "collapsed": false,
    "pycharm": {
     "name": "#%%\n"
    }
   }
  },
  {
   "cell_type": "code",
   "execution_count": null,
   "outputs": [],
   "source": [
    "max_index = np.where(DPIT301 == np.amax(DPIT301))\n",
    "plt.plot(DPIT301[:30000])\n",
    "\n",
    "for k in range(len(max_index[0])):\n",
    "    print(max_index[0][k])\n",
    "    if max_index[0][k+1]-max_index[0][k]>1:\n",
    "        print('ici')"
   ],
   "metadata": {
    "collapsed": false,
    "pycharm": {
     "name": "#%%\n"
    }
   }
  }
 ],
 "metadata": {
  "kernelspec": {
   "display_name": "Python 3",
   "language": "python",
   "name": "python3"
  },
  "language_info": {
   "codemirror_mode": {
    "name": "ipython",
    "version": 2
   },
   "file_extension": ".py",
   "mimetype": "text/x-python",
   "name": "python",
   "nbconvert_exporter": "python",
   "pygments_lexer": "ipython2",
   "version": "2.7.6"
  }
 },
 "nbformat": 4,
 "nbformat_minor": 0
}